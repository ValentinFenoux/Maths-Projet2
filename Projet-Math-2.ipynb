{
 "cells": [
  {
   "cell_type": "markdown",
   "metadata": {},
   "source": [
    "# Projet numérique : Choix du pas de temps"
   ]
  },
  {
   "cell_type": "markdown",
   "metadata": {},
   "source": [
    "###### Auteurs : Mathis Boutrouelle et Valentin Fenoux"
   ]
  },
  {
   "cell_type": "markdown",
   "metadata": {},
   "source": [
    "#### Imports"
   ]
  },
  {
   "cell_type": "code",
   "execution_count": 5,
   "metadata": {},
   "outputs": [],
   "source": [
    "import numpy as np\n",
    "import matplotlib.pyplot as plt\n",
    "\n",
    "Tlim = 10 ; Tau = 1"
   ]
  },
  {
   "cell_type": "markdown",
   "metadata": {},
   "source": [
    "## Pas fixe"
   ]
  },
  {
   "cell_type": "markdown",
   "metadata": {},
   "source": [
    "Nous commençons par définir la fonction qui permet de résoudre l'équation différentielle grâce au schéma d'Euler explicite. Dans la fonction nous introduisons une constante $T_{lim} $ qui est la durée sur laquelle nous voulons faire la simulation, ainsi qu'une constante $\\tau$ qui est la constante de temps de l'équation différentielle choisi (cf plus bas)."
   ]
  },
  {
   "cell_type": "code",
   "execution_count": 23,
   "metadata": {},
   "outputs": [],
   "source": [
    "def solver_euler_explicite(f,x0,dt) :\n",
    "    vect_x = [x0]   # Vecteur de la solution\n",
    "    x = x0\n",
    "    vect_t = [0]    # Vecteur des temps\n",
    "    n = int(Tlim//dt)    # n : nombre de points sur l'intervalle de temps pour un dt donné\n",
    "    for i in range(1,n) :\n",
    "        x = vect_x[i-1] + i*dt*f(vect_x[i-1])   # Application du schéma d'Euler\n",
    "        vect_x.append(x)\n",
    "        vect_t.append(i*dt)\n",
    "    return(vect_t, vect_x)"
   ]
  },
  {
   "cell_type": "markdown",
   "metadata": {},
   "source": [
    "Nous allons tester les performances de notre solveur sur l'équation : $$ \\overset{.}{x} = \\frac{1 - x}{\\tau} $$ qui se résoud explicitement sous la forme : $ x(t) = 1 - e^{\\frac{-t}{\\tau}} $"
   ]
  },
  {
   "cell_type": "markdown",
   "metadata": {},
   "source": [
    "On commence d'abord par créer les vecteurs de la solution littérale."
   ]
  },
  {
   "cell_type": "code",
   "execution_count": 24,
   "metadata": {},
   "outputs": [],
   "source": [
    "t_lit = np.arange(0, Tlim, 0.01)   # On crée un vecteur des temps avec le pas de temps choisi\n",
    "x_lit = []\n",
    "for t in t_lit :\n",
    "    x = 1 - np.exp(-t/Tau)\n",
    "    x_lit.append(x)\n",
    "    "
   ]
  },
  {
   "cell_type": "markdown",
   "metadata": {},
   "source": [
    "On peut alors chercher la solution avec le solveur numérique, en sachant que $x_0 = 0$."
   ]
  },
  {
   "cell_type": "code",
   "execution_count": 25,
   "metadata": {},
   "outputs": [],
   "source": [
    "def f(x) :\n",
    "    return((1 - x)/Tau)\n",
    "\n",
    "t_num,x_num = solver_euler_explicite(f,0,0.01)"
   ]
  },
  {
   "cell_type": "markdown",
   "metadata": {},
   "source": [
    "### Affichage des résultats"
   ]
  },
  {
   "cell_type": "code",
   "execution_count": 26,
   "metadata": {},
   "outputs": [
    {
     "data": {
      "image/png": "[encoded data removed]",
      "text/plain": [
       "<Figure size 432x288 with 1 Axes>"
      ]
     },
     "metadata": {
      "needs_background": "light"
     },
     "output_type": "display_data"
    }
   ],
   "source": [
    "plt.plot(t_lit, x_lit, 'b', label=\"Solution littérale\")\n",
    "plt.plot(t_num, x_num, 'r', label=\"Solution numérique\")\n",
    "plt.legend()\n",
    "plt.xlabel('Temps (s)')\n",
    "plt.title(\"Comparaison des solutions temporelles de l'équation différentielle\")\n",
    "plt.show()"
   ]
  },
  {
   "cell_type": "markdown",
   "metadata": {},
   "source": [
    "### Convergence du schéma"
   ]
  },
  {
   "cell_type": "markdown",
   "metadata": {},
   "source": []
  }
 ],
 "metadata": {
  "kernelspec": {
   "display_name": "Python 3",
   "language": "python",
   "name": "python3"
  },
  "language_info": {
   "codemirror_mode": {
    "name": "ipython",
    "version": 3
   },
   "file_extension": ".py",
   "mimetype": "text/x-python",
   "name": "python",
   "nbconvert_exporter": "python",
   "pygments_lexer": "ipython3",
   "version": "3.7.3"
  }
 },
 "nbformat": 4,
 "nbformat_minor": 2
}
